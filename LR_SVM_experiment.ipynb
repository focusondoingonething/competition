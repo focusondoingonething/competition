{
  "nbformat": 4,
  "nbformat_minor": 0,
  "metadata": {
    "colab": {
      "provenance": [],
      "collapsed_sections": [],
      "mount_file_id": "1PyCzAx8TRGsefPu59pm-qXJaBEnMhLqJ",
      "authorship_tag": "ABX9TyPHSo7jids7HX4b13lvYmWM",
      "include_colab_link": true
    },
    "kernelspec": {
      "name": "python3",
      "display_name": "Python 3"
    },
    "language_info": {
      "name": "python"
    }
  },
  "cells": [
    {
      "cell_type": "markdown",
      "metadata": {
        "id": "view-in-github",
        "colab_type": "text"
      },
      "source": [
        "<a href=\"https://colab.research.google.com/github/hshuai97/competition/blob/main/LR_SVM_experiment.ipynb\" target=\"_parent\"><img src=\"https://colab.research.google.com/assets/colab-badge.svg\" alt=\"Open In Colab\"/></a>"
      ]
    },
    {
      "cell_type": "markdown",
      "source": [
        "逻辑回归（Logistic Regression）和支持向量机（Support Vector Machine）实验"
      ],
      "metadata": {
        "id": "kS0z0_dtkYQ0"
      }
    },
    {
      "cell_type": "markdown",
      "source": [
        "#  1 逻辑回归"
      ],
      "metadata": {
        "id": "I_4qMLuskviH"
      }
    },
    {
      "cell_type": "markdown",
      "source": [
        "## 1.1 回归与分类的区别\n",
        "\n",
        "根据处理的问题来看，回归是对连续型变量进行建模和预测，预测值连续，而分类是对离散型变量建模和预测，预测值为离散的类别；\n",
        "\n",
        "典型的回归问题：房价预测，股票价格走势预测，商品销售量预测；典型的分类问题：垃圾邮件分类，评价的正负面分类；"
      ],
      "metadata": {
        "id": "TptNLAVTl-b8"
      }
    },
    {
      "cell_type": "markdown",
      "source": [
        "## 1.2 逻辑回归是分类\n",
        "\n",
        "逻辑回归使用sigmoid(x)函数将输入的变量进行二分类;\n",
        "\n",
        "\\begin{equation}\n",
        "  f(x) = \\frac{1}{1+e^{-x}}\n",
        "\\end{equation}\n",
        "\n",
        "函数图像如下："
      ],
      "metadata": {
        "id": "sFKWKb-DpeDn"
      }
    },
    {
      "cell_type": "code",
      "source": [
        "import matplotlib.pyplot as plt\n",
        "import math\n",
        "\n",
        "x = [i for i in range(-10,10,1)]  # 生成-10到10之间的以1递增的数\n",
        "\n",
        "func=lambda j : 1 / (1 + math.pow(math.e, -j))  # 编写一个sigmoid函数\n",
        "\n",
        "y = [func(j) for j in x]  # 依次传入每个x, 得到对应的f(x)\n",
        "\n",
        "fig = plt.figure(figsize=(9, 6))\n",
        "ax = fig.add_subplot(1,1,1)  # 添加一个1*1的图，对第一个图进行绘制\n",
        "\n",
        "ax.plot(x, y, \"k--\", label=\"sigmoid\")  # 画图\n",
        "\n",
        "plt.legend()  # 显示线条的名称\n",
        "plt.show()"
      ],
      "metadata": {
        "colab": {
          "base_uri": "https://localhost:8080/",
          "height": 374
        },
        "id": "6XuNm3TKlAjL",
        "outputId": "d84c037e-bd72-4f99-b30f-f1c7396b6651"
      },
      "execution_count": null,
      "outputs": [
        {
          "output_type": "display_data",
          "data": {
            "text/plain": [
              "<Figure size 648x432 with 1 Axes>"
            ],
            "image/png": "[encoded data removed]"
          },
          "metadata": {
            "needs_background": "light"
          }
        }
      ]
    },
    {
      "cell_type": "markdown",
      "source": [
        "逻辑回归模型的一般形式：\n",
        "\n",
        "\\begin{equation}\n",
        "  f_\\theta(x) = \\frac{1}{1+ e^{-(\\theta_0 + \\theta_1x_1 + \\theta_2x_2 +\\cdots +\\theta_nx_n)}}\n",
        "\\end{equation}"
      ],
      "metadata": {
        "id": "TwHCXpSXzyz1"
      }
    },
    {
      "cell_type": "markdown",
      "source": [
        "数据集介绍：400个学生的学习总分数和绩点信息，申请学校，预测学生是否被录取"
      ],
      "metadata": {
        "id": "fNcPTpYbAQEf"
      }
    },
    {
      "cell_type": "code",
      "source": [
        "import pandas as pd\n",
        "\n",
        "df = pd.read_csv(\"/content/drive/MyDrive/comp/data-LR-SVM/5_logisitic_admit.csv\")  # 读csv数据，见群文件\n",
        "df.insert(1, \"ones\", 0)  # 插入1列作为截距\\theta_0\n",
        "df.tail(10)  # 查看表尾的10行数据"
      ],
      "metadata": {
        "id": "2a42kAhUsCDj",
        "colab": {
          "base_uri": "https://localhost:8080/",
          "height": 363
        },
        "outputId": "8cc8b7f2-030e-4b3a-84ae-158c35c74519"
      },
      "execution_count": null,
      "outputs": [
        {
          "output_type": "execute_result",
          "data": {
            "text/plain": [
              "     admit  ones  gre   gpa\n",
              "390      1     0  800  3.05\n",
              "391      1     0  660  3.88\n",
              "392      1     0  600  3.38\n",
              "393      1     0  620  3.75\n",
              "394      1     0  460  3.99\n",
              "395      0     0  620  4.00\n",
              "396      0     0  560  3.04\n",
              "397      0     0  460  2.63\n",
              "398      1     0  700  3.65\n",
              "399      0     0  600  3.89"
            ],
            "text/html": [
              "\n",
              "  <div id=\"df-de80f4f3-f23b-4f00-8822-d4561e266dd1\">\n",
              "    <div class=\"colab-df-container\">\n",
              "      <div>\n",
              "<style scoped>\n",
              "    .dataframe tbody tr th:only-of-type {\n",
              "        vertical-align: middle;\n",
              "    }\n",
              "\n",
              "    .dataframe tbody tr th {\n",
              "        vertical-align: top;\n",
              "    }\n",
              "\n",
              "    .dataframe thead th {\n",
              "        text-align: right;\n",
              "    }\n",
              "</style>\n",
              "<table border=\"1\" class=\"dataframe\">\n",
              "  <thead>\n",
              "    <tr style=\"text-align: right;\">\n",
              "      <th></th>\n",
              "      <th>admit</th>\n",
              "      <th>ones</th>\n",
              "      <th>gre</th>\n",
              "      <th>gpa</th>\n",
              "    </tr>\n",
              "  </thead>\n",
              "  <tbody>\n",
              "    <tr>\n",
              "      <th>390</th>\n",
              "      <td>1</td>\n",
              "      <td>0</td>\n",
              "      <td>800</td>\n",
              "      <td>3.05</td>\n",
              "    </tr>\n",
              "    <tr>\n",
              "      <th>391</th>\n",
              "      <td>1</td>\n",
              "      <td>0</td>\n",
              "      <td>660</td>\n",
              "      <td>3.88</td>\n",
              "    </tr>\n",
              "    <tr>\n",
              "      <th>392</th>\n",
              "      <td>1</td>\n",
              "      <td>0</td>\n",
              "      <td>600</td>\n",
              "      <td>3.38</td>\n",
              "    </tr>\n",
              "    <tr>\n",
              "      <th>393</th>\n",
              "      <td>1</td>\n",
              "      <td>0</td>\n",
              "      <td>620</td>\n",
              "      <td>3.75</td>\n",
              "    </tr>\n",
              "    <tr>\n",
              "      <th>394</th>\n",
              "      <td>1</td>\n",
              "      <td>0</td>\n",
              "      <td>460</td>\n",
              "      <td>3.99</td>\n",
              "    </tr>\n",
              "    <tr>\n",
              "      <th>395</th>\n",
              "      <td>0</td>\n",
              "      <td>0</td>\n",
              "      <td>620</td>\n",
              "      <td>4.00</td>\n",
              "    </tr>\n",
              "    <tr>\n",
              "      <th>396</th>\n",
              "      <td>0</td>\n",
              "      <td>0</td>\n",
              "      <td>560</td>\n",
              "      <td>3.04</td>\n",
              "    </tr>\n",
              "    <tr>\n",
              "      <th>397</th>\n",
              "      <td>0</td>\n",
              "      <td>0</td>\n",
              "      <td>460</td>\n",
              "      <td>2.63</td>\n",
              "    </tr>\n",
              "    <tr>\n",
              "      <th>398</th>\n",
              "      <td>1</td>\n",
              "      <td>0</td>\n",
              "      <td>700</td>\n",
              "      <td>3.65</td>\n",
              "    </tr>\n",
              "    <tr>\n",
              "      <th>399</th>\n",
              "      <td>0</td>\n",
              "      <td>0</td>\n",
              "      <td>600</td>\n",
              "      <td>3.89</td>\n",
              "    </tr>\n",
              "  </tbody>\n",
              "</table>\n",
              "</div>\n",
              "      <button class=\"colab-df-convert\" onclick=\"convertToInteractive('df-de80f4f3-f23b-4f00-8822-d4561e266dd1')\"\n",
              "              title=\"Convert this dataframe to an interactive table.\"\n",
              "              style=\"display:none;\">\n",
              "        \n",
              "  <svg xmlns=\"http://www.w3.org/2000/svg\" height=\"24px\"viewBox=\"0 0 24 24\"\n",
              "       width=\"24px\">\n",
              "    <path d=\"M0 0h24v24H0V0z\" fill=\"none\"/>\n",
              "    <path d=\"M18.56 5.44l.94 2.06.94-2.06 2.06-.94-2.06-.94-.94-2.06-.94 2.06-2.06.94zm-11 1L8.5 8.5l.94-2.06 2.06-.94-2.06-.94L8.5 2.5l-.94 2.06-2.06.94zm10 10l.94 2.06.94-2.06 2.06-.94-2.06-.94-.94-2.06-.94 2.06-2.06.94z\"/><path d=\"M17.41 7.96l-1.37-1.37c-.4-.4-.92-.59-1.43-.59-.52 0-1.04.2-1.43.59L10.3 9.45l-7.72 7.72c-.78.78-.78 2.05 0 2.83L4 21.41c.39.39.9.59 1.41.59.51 0 1.02-.2 1.41-.59l7.78-7.78 2.81-2.81c.8-.78.8-2.07 0-2.86zM5.41 20L4 18.59l7.72-7.72 1.47 1.35L5.41 20z\"/>\n",
              "  </svg>\n",
              "      </button>\n",
              "      \n",
              "  <style>\n",
              "    .colab-df-container {\n",
              "      display:flex;\n",
              "      flex-wrap:wrap;\n",
              "      gap: 12px;\n",
              "    }\n",
              "\n",
              "    .colab-df-convert {\n",
              "      background-color: #E8F0FE;\n",
              "      border: none;\n",
              "      border-radius: 50%;\n",
              "      cursor: pointer;\n",
              "      display: none;\n",
              "      fill: #1967D2;\n",
              "      height: 32px;\n",
              "      padding: 0 0 0 0;\n",
              "      width: 32px;\n",
              "    }\n",
              "\n",
              "    .colab-df-convert:hover {\n",
              "      background-color: #E2EBFA;\n",
              "      box-shadow: 0px 1px 2px rgba(60, 64, 67, 0.3), 0px 1px 3px 1px rgba(60, 64, 67, 0.15);\n",
              "      fill: #174EA6;\n",
              "    }\n",
              "\n",
              "    [theme=dark] .colab-df-convert {\n",
              "      background-color: #3B4455;\n",
              "      fill: #D2E3FC;\n",
              "    }\n",
              "\n",
              "    [theme=dark] .colab-df-convert:hover {\n",
              "      background-color: #434B5C;\n",
              "      box-shadow: 0px 1px 3px 1px rgba(0, 0, 0, 0.15);\n",
              "      filter: drop-shadow(0px 1px 2px rgba(0, 0, 0, 0.3));\n",
              "      fill: #FFFFFF;\n",
              "    }\n",
              "  </style>\n",
              "\n",
              "      <script>\n",
              "        const buttonEl =\n",
              "          document.querySelector('#df-de80f4f3-f23b-4f00-8822-d4561e266dd1 button.colab-df-convert');\n",
              "        buttonEl.style.display =\n",
              "          google.colab.kernel.accessAllowed ? 'block' : 'none';\n",
              "\n",
              "        async function convertToInteractive(key) {\n",
              "          const element = document.querySelector('#df-de80f4f3-f23b-4f00-8822-d4561e266dd1');\n",
              "          const dataTable =\n",
              "            await google.colab.kernel.invokeFunction('convertToInteractive',\n",
              "                                                     [key], {});\n",
              "          if (!dataTable) return;\n",
              "\n",
              "          const docLinkHtml = 'Like what you see? Visit the ' +\n",
              "            '<a target=\"_blank\" href=https://colab.research.google.com/notebooks/data_table.ipynb>data table notebook</a>'\n",
              "            + ' to learn more about interactive tables.';\n",
              "          element.innerHTML = '';\n",
              "          dataTable['output_type'] = 'display_data';\n",
              "          await google.colab.output.renderOutput(dataTable, element);\n",
              "          const docLink = document.createElement('div');\n",
              "          docLink.innerHTML = docLinkHtml;\n",
              "          element.appendChild(docLink);\n",
              "        }\n",
              "      </script>\n",
              "    </div>\n",
              "  </div>\n",
              "  "
            ]
          },
          "metadata": {},
          "execution_count": 2
        }
      ]
    },
    {
      "cell_type": "code",
      "source": [
        "adm = df[df[\"admit\"]==1]   # 把2类数据分开画图查看\n",
        "no_adm = df[df[\"admit\"]==0]\n",
        "\n",
        "fig = plt.figure(figsize=(9, 6))  # 画图步骤同上\n",
        "ax = fig.add_subplot(1,1,1)\n",
        "\n",
        "ax.scatter(adm[\"gre\"], adm[\"gpa\"], marker='o', label = \"admit\")  # 画散点图用scatter\n",
        "ax.scatter(no_adm[\"gre\"], no_adm[\"gpa\"], marker=\"x\", label=\"not admit\")\n",
        "\n",
        "ax.legend()\n",
        "ax.set_xlabel(\"gre\")  # 为x轴设置名称\n",
        "ax.set_ylabel(\"gpa\")\n",
        "\n",
        "plt.show()"
      ],
      "metadata": {
        "id": "lrcpxSs_-Imn",
        "colab": {
          "base_uri": "https://localhost:8080/",
          "height": 388
        },
        "outputId": "5b28190c-9755-4311-a384-d11e403661aa"
      },
      "execution_count": null,
      "outputs": [
        {
          "output_type": "display_data",
          "data": {
            "text/plain": [
              "<Figure size 648x432 with 1 Axes>"
            ],
            "image/png": "[encoded data removed]"
          },
          "metadata": {
            "needs_background": "light"
          }
        }
      ]
    },
    {
      "cell_type": "code",
      "source": [
        "import numpy as np\n",
        "\n",
        "# 提取样本的X和y\n",
        "X = df.iloc[:, 1:4]  # 取1-3列的数据为X\n",
        "y = df.iloc[:, 0]\n",
        "\n",
        "# 将X, y转成数组\n",
        "X = np.array(X)\n",
        "y = np.array(y)\n",
        "\n",
        "m, n = np.shape(X)  # 查看数组的维度（形状）\n",
        "m,n"
      ],
      "metadata": {
        "colab": {
          "base_uri": "https://localhost:8080/"
        },
        "id": "2TiofYLfJHY1",
        "outputId": "4ce68ce3-b9cd-4558-aba4-2a415fcfaa43"
      },
      "execution_count": null,
      "outputs": [
        {
          "output_type": "execute_result",
          "data": {
            "text/plain": [
              "(400, 3)"
            ]
          },
          "metadata": {},
          "execution_count": 4
        }
      ]
    },
    {
      "cell_type": "markdown",
      "source": [
        "用sklearn库下的LogisticRegression模块进行分类："
      ],
      "metadata": {
        "id": "CL_vchmFAXCe"
      }
    },
    {
      "cell_type": "code",
      "source": [
        "from sklearn.linear_model import LogisticRegression  # 导入逻辑回归包\n",
        "\n",
        "classifier = LogisticRegression(C=1.3)  # 实例化一个逻辑回归的分类器对象\n",
        "classifier.fit(X, y)  # 训练数据\n",
        "\n",
        "classifier.coef_  # 打印损失误差最小的时候\\theta_0, \\theta_1, \\theta_2的值"
      ],
      "metadata": {
        "id": "Hct6rVCsAz6W",
        "colab": {
          "base_uri": "https://localhost:8080/"
        },
        "outputId": "8ed2c38c-d602-4239-f70f-e68ef13a7b28"
      },
      "execution_count": null,
      "outputs": [
        {
          "output_type": "execute_result",
          "data": {
            "text/plain": [
              "array([[0.        , 0.00944915, 2.18284071]])"
            ]
          },
          "metadata": {},
          "execution_count": 5
        }
      ]
    },
    {
      "cell_type": "markdown",
      "source": [
        "训练集的分类准确率："
      ],
      "metadata": {
        "id": "fUFIEDZDN_hh"
      }
    },
    {
      "cell_type": "code",
      "source": [
        "pred = classifier.predict(X)   # 预测数据\n",
        "\n",
        "correct = [1 if ((a==1 and b==1) or (a==0 and b==0)) else 0 for (a, b) in zip(pred, y)]  # 删选出分类正确的样本个数\n",
        "\n",
        "acc = sum(map(int, correct)) / len(correct)  # 相当于训练集上的准确率\n",
        "\n",
        "acc"
      ],
      "metadata": {
        "colab": {
          "base_uri": "https://localhost:8080/"
        },
        "id": "HNM8gQQ1LHE_",
        "outputId": "69a40036-9a9b-4742-e209-7dd2278e574e"
      },
      "execution_count": null,
      "outputs": [
        {
          "output_type": "execute_result",
          "data": {
            "text/plain": [
              "0.76"
            ]
          },
          "metadata": {},
          "execution_count": 6
        }
      ]
    },
    {
      "cell_type": "code",
      "source": [
        "# classifier.score(X, y)  # 上面一段函数功能等于这个内置的函数"
      ],
      "metadata": {
        "id": "nGgaucI_OEvW"
      },
      "execution_count": null,
      "outputs": []
    },
    {
      "cell_type": "markdown",
      "source": [
        "# 2 支持向量机"
      ],
      "metadata": {
        "id": "UisM5WHxk8KX"
      }
    },
    {
      "cell_type": "markdown",
      "source": [
        "svm工具包：https://www.csie.ntu.edu.tw/~cjlin/libsvm/index.html"
      ],
      "metadata": {
        "id": "3HRZCodM22YC"
      }
    },
    {
      "cell_type": "markdown",
      "source": [
        "##  2.1 超平面与间隔最大化"
      ],
      "metadata": {
        "id": "z138oaoUQveg"
      }
    },
    {
      "cell_type": "markdown",
      "source": [
        "1）超平面，从二维到n维：\n",
        "\n",
        "\\begin{equation}\n",
        "  \\omega_1x_1 + \\omega_2x_2 + \\cdots +  \\omega_nx_n=0, ( \\omega_1, \\omega_2, \\cdots,  \\omega_n不同时为0)\n",
        "\\end{equation}\n",
        "\n",
        "2) 几何间隔定义：所有样本点到超平面的几何间隔的最小值作为几何间隔：\n",
        "\\begin{equation}\n",
        "  \\hat{\\gamma}_i = y_i(\\frac{\\omega}{||\\omega||}x_i + \\frac{b}{||\\omega||}),  ||\\omega||=\\sqrt{\\omega_1^2+\\omega_2^2+\\cdots +\\omega_n^2}\n",
        "\\end{equation}\n",
        "\n",
        "\\begin{equation}\n",
        "  \\hat{\\gamma} = \\min_\\limits{i=1, \\cdots, N} \\hat{\\gamma}_i\n",
        "\\end{equation}\n",
        "\n",
        "3）间隔最大化：找到“最合适”的超平面使得间隔最大：\n",
        "\\begin{equation}\n",
        "  \\max_\\limits{w, b} \\frac{\\hat{\\gamma}}{||\\omega||}\\\\\n",
        "  s.t. y_i(w\\cdot x_i + b) \\geq \\hat{\\gamma}\n",
        "\\end{equation}\n",
        "\n",
        "\n",
        "\n",
        "其中，$(x_i, y_i)$是样本点，$x_i$为第$i$个样本，$y_i$是标签;\n",
        "\n",
        "\n",
        "4）支持向量：数据点处在最优平面的上下界上的点都是支持向量"
      ],
      "metadata": {
        "id": "bALsdMk0UI-Y"
      }
    },
    {
      "cell_type": "markdown",
      "source": [
        "##   2.2 线性不可分支持向量机"
      ],
      "metadata": {
        "id": "COTODXTDWkBA"
      }
    },
    {
      "cell_type": "markdown",
      "source": [
        "1）线性可分支持向量机：用一个超平面可以划分开\n",
        "\n",
        "2）线性不可分支持向量机：存在交叉的点，超平面分不开；\n",
        "\n",
        "3）非线性可分支持向量机；\n",
        "\n",
        "3）多类分类支持向量机；"
      ],
      "metadata": {
        "id": "pvypvXHq4H-c"
      }
    },
    {
      "cell_type": "markdown",
      "source": [
        "线性不可分："
      ],
      "metadata": {
        "id": "reZdubKE8DLn"
      }
    },
    {
      "cell_type": "code",
      "execution_count": null,
      "metadata": {
        "id": "XLlVikeijoIn",
        "colab": {
          "base_uri": "https://localhost:8080/"
        },
        "outputId": "fa26bb60-0328-4e23-cd01-6e1a9d81a29b"
      },
      "outputs": [
        {
          "output_type": "execute_result",
          "data": {
            "text/plain": [
              "0.77"
            ]
          },
          "metadata": {},
          "execution_count": 18
        }
      ],
      "source": [
        "from sklearn.metrics import accuracy_score\n",
        "from sklearn.svm import SVC  # 支持向量机函数库\n",
        "\n",
        "cls = SVC(kernel=\"linear\", C=0.01)\n",
        "cls.fit(X, y)  # 训练数据\n",
        "\n",
        "cls.score(X, y)  # 训练集上的分类精度"
      ]
    },
    {
      "cell_type": "code",
      "source": [
        "cls = SVC(kernel=\"poly\", degree=2)  # 核函数为多项式的SVM\n",
        "cls.fit(X, y)  # 训练数据\n",
        "\n",
        "cls.score(X, y)  # 训练集上的分类精度"
      ],
      "metadata": {
        "colab": {
          "base_uri": "https://localhost:8080/"
        },
        "id": "TmU-e-GK_dtN",
        "outputId": "8dc6e925-f477-494c-d417-7255f10d3f1e"
      },
      "execution_count": null,
      "outputs": [
        {
          "output_type": "execute_result",
          "data": {
            "text/plain": [
              "0.77"
            ]
          },
          "metadata": {},
          "execution_count": 23
        }
      ]
    },
    {
      "cell_type": "code",
      "source": [
        "cls = SVC(kernel=\"rbf\", gamma=1.5)  # 核函数为径向基的SVM\n",
        "cls.fit(X, y)  # 训练数据\n",
        "\n",
        "cls.score(X, y)  # 训练集上的分类精度"
      ],
      "metadata": {
        "colab": {
          "base_uri": "https://localhost:8080/"
        },
        "id": "YaIMyEMF_3OH",
        "outputId": "338ad721-ce8a-444e-fdf0-bb4fb8edce41"
      },
      "execution_count": null,
      "outputs": [
        {
          "output_type": "execute_result",
          "data": {
            "text/plain": [
              "0.8075"
            ]
          },
          "metadata": {},
          "execution_count": 26
        }
      ]
    },
    {
      "cell_type": "code",
      "source": [
        "cls = SVC(kernel=\"sigmoid\", gamma=1)  # 核函数为sigmoid的SVM\n",
        "cls.fit(X, y)  # 训练数据\n",
        "\n",
        "cls.score(X, y)  # 训练集上的分类精度"
      ],
      "metadata": {
        "colab": {
          "base_uri": "https://localhost:8080/"
        },
        "id": "YSzXI4YgASOg",
        "outputId": "d221ff5e-e908-43e8-c7c2-b752bacc8b14"
      },
      "execution_count": null,
      "outputs": [
        {
          "output_type": "execute_result",
          "data": {
            "text/plain": [
              "0.6725"
            ]
          },
          "metadata": {},
          "execution_count": 28
        }
      ]
    },
    {
      "cell_type": "markdown",
      "source": [
        "可以调的参数：\n",
        "\n",
        "SVC(C=1.0, kernel='rbf', degree=3, gamma='auto', coef0=0.0, \n",
        "shrinking=True, probability=False, tol=0.001, cache_size=200,\n",
        " class_weight=None, verbose=False, max_iter=-1, decision_function_shape='ovr', random_state=None)"
      ],
      "metadata": {
        "id": "3wnNHr68BOcX"
      }
    }
  ]
}